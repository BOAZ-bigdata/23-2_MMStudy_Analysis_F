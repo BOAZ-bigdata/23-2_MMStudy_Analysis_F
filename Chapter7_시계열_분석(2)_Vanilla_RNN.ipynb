{
 "cells": [
  {
   "cell_type": "code",
   "execution_count": 1,
   "metadata": {},
   "outputs": [],
   "source": [
    "import numpy as np"
   ]
  },
  {
   "cell_type": "code",
   "execution_count": 3,
   "metadata": {},
   "outputs": [
    {
     "name": "stdout",
     "output_type": "stream",
     "text": [
      "[ 1. nan  3. inf]\n",
      "[1.00000000e+000 0.00000000e+000 3.00000000e+000 1.79769313e+308]\n"
     ]
    }
   ],
   "source": [
    "# np.nan_to_num()\n",
    "# numpy.nan_to_num(x,copy=True,nan=0.0,posinf=None,neginf=None)\n",
    "\n",
    "# 유효하지 않은 값으로 배열 생성\n",
    "arr = np.array([1, np.nan, 3, np.inf])\n",
    "print(arr)\n",
    "\n",
    "# 유효하지 않은 값 교체\n",
    "arr = np.nan_to_num(arr)\n",
    "print(arr)"
   ]
  },
  {
   "cell_type": "markdown",
   "metadata": {},
   "source": [
    "## 7.4. RNN\n",
    "* IMDB 데이터셋: 영화 리뷰에 대한 데이터 5만 개로 구성\n",
    "* 훈련 data: 2만 5000개 / 테스트 data: 2만 5000개 (50%씩 긍정, 부정 리뷰)\n",
    "* imdb.load_data() 메서드로 바로 내려 받아 사용 가능"
   ]
  },
  {
   "cell_type": "markdown",
   "metadata": {},
   "source": [
    "### 7.4.1. RNN 셀 구현"
   ]
  },
  {
   "cell_type": "code",
   "execution_count": 1,
   "metadata": {},
   "outputs": [],
   "source": [
    "# (코드 7-3) 라이브러리 호출\n",
    "import torch\n",
    "import torchtext # NLP 분야에서 사용되는 데이터로더\n",
    "import numpy as np\n",
    "import torch.nn as nn\n",
    "import torch.nn.functional as F\n",
    "import time\n",
    "\n",
    "# import torchtext 때문에 오류 발생했음 >> 해결 방법(prompt에 코드 입력): pip install torch==2.0.0+cpu torchvision==0.15.1+cpu torchaudio==2.0.1 --index-url https://download.pytorch.org/whl/cpu"
   ]
  },
  {
   "cell_type": "code",
   "execution_count": null,
   "metadata": {},
   "outputs": [],
   "source": [
    "# torchtext.legacy 가 자꾸 에러 떠러 버전을 강제로 prompt에서 조정해줌\n",
    "# !pip install torchtext==0.10.1 --user"
   ]
  },
  {
   "cell_type": "code",
   "execution_count": 2,
   "metadata": {},
   "outputs": [],
   "source": [
    "# (코드 7-4) 데이터 전처리\n",
    "start=time.time()\n",
    "TEXT = torchtext.legacy.data.Field(lower=True, fix_length=200, batch_first=False)\n",
    "LABEL = torchtext.legacy.data.Field(sequential=False) # 이 레이블은 범주(긍정/부정)만 가지기 때문에 sequential=False 가 됨 (시계열일 경우 True)"
   ]
  },
  {
   "cell_type": "code",
   "execution_count": 3,
   "metadata": {},
   "outputs": [
    {
     "name": "stdout",
     "output_type": "stream",
     "text": [
      "downloading aclImdb_v1.tar.gz\n"
     ]
    },
    {
     "name": "stderr",
     "output_type": "stream",
     "text": [
      "c:\\Users\\USER\\Desktop\\BOAZ\\23-2.02. 멘토멘티 스터디\\MentorMentee_Study_Code\\.data\\imdb\\aclImdb_v1.tar.gz: 100%|██████████| 84.1M/84.1M [03:28<00:00, 403kB/s] \n"
     ]
    }
   ],
   "source": [
    "# (코드 7-5) 데이터셋 준비\n",
    "from torchtext.legacy import datasets\n",
    "train_data, test_data = datasets.IMDB.splits(TEXT, LABEL)"
   ]
  },
  {
   "cell_type": "code",
   "execution_count": 16,
   "metadata": {},
   "outputs": [
    {
     "name": "stdout",
     "output_type": "stream",
     "text": [
      "{'text': ['bromwell', 'high', 'is', 'a', 'cartoon', 'comedy.', 'it', 'ran', 'at', 'the', 'same', 'time', 'as', 'some', 'other', 'programs', 'about', 'school', 'life,', 'such', 'as', '\"teachers\".', 'my', '35', 'years', 'in', 'the', 'teaching', 'profession', 'lead', 'me', 'to', 'believe', 'that', 'bromwell', \"high's\", 'satire', 'is', 'much', 'closer', 'to', 'reality', 'than', 'is', '\"teachers\".', 'the', 'scramble', 'to', 'survive', 'financially,', 'the', 'insightful', 'students', 'who', 'can', 'see', 'right', 'through', 'their', 'pathetic', \"teachers'\", 'pomp,', 'the', 'pettiness', 'of', 'the', 'whole', 'situation,', 'all', 'remind', 'me', 'of', 'the', 'schools', 'i', 'knew', 'and', 'their', 'students.', 'when', 'i', 'saw', 'the', 'episode', 'in', 'which', 'a', 'student', 'repeatedly', 'tried', 'to', 'burn', 'down', 'the', 'school,', 'i', 'immediately', 'recalled', '.........', 'at', '..........', 'high.', 'a', 'classic', 'line:', 'inspector:', \"i'm\", 'here', 'to', 'sack', 'one', 'of', 'your', 'teachers.', 'student:', 'welcome', 'to', 'bromwell', 'high.', 'i', 'expect', 'that', 'many', 'adults', 'of', 'my', 'age', 'think', 'that', 'bromwell', 'high', 'is', 'far', 'fetched.', 'what', 'a', 'pity', 'that', 'it', \"isn't!\"], 'label': 'pos'}\n",
      "\n",
      "pos\n",
      "neg\n"
     ]
    }
   ],
   "source": [
    "# (코드 7-6) 훈련 데이터셋 내용 확인\n",
    "print(vars(train_data.examples[0]))\n",
    "print()\n",
    "print(vars(train_data.examples[0])['label']) # pos: positive\n",
    "print(vars(train_data.examples[20000])['label']) # neg: negative"
   ]
  },
  {
   "cell_type": "code",
   "execution_count": 17,
   "metadata": {},
   "outputs": [],
   "source": [
    "# (코드 7-7) 데이터셋 전처리 적용: 공백처리, 불필요한 문자 제거\n",
    "import string\n",
    "\n",
    "for example in train_data.examples:\n",
    "    text = [x.lower() for x in vars(example)['text']] # text의 내용을 소문자로 변경 >> 이를 text 변수에 저장\n",
    "    text = [x.replace(\"<br\",\"\") for x in text] # 위의 text 변수에서 \"<br\"을 \"\" (공백)으로 변경 >> text 변수 업데이트\n",
    "    text = [''.join(c for c in s if c not in string.punctuation) for s in text] # 구두점 제거\n",
    "    text = [s for s in text if s] # 공백 제거\n",
    "    vars(example)['text'] = text # 위에서 새롭게 정의한 text 변수를 훈련 데이터셋의 text 딕셔너리의 key 값의 value값으로 대입"
   ]
  },
  {
   "cell_type": "code",
   "execution_count": 18,
   "metadata": {},
   "outputs": [
    {
     "name": "stdout",
     "output_type": "stream",
     "text": [
      "{'text': ['bromwell', 'high', 'is', 'a', 'cartoon', 'comedy', 'it', 'ran', 'at', 'the', 'same', 'time', 'as', 'some', 'other', 'programs', 'about', 'school', 'life', 'such', 'as', 'teachers', 'my', '35', 'years', 'in', 'the', 'teaching', 'profession', 'lead', 'me', 'to', 'believe', 'that', 'bromwell', 'highs', 'satire', 'is', 'much', 'closer', 'to', 'reality', 'than', 'is', 'teachers', 'the', 'scramble', 'to', 'survive', 'financially', 'the', 'insightful', 'students', 'who', 'can', 'see', 'right', 'through', 'their', 'pathetic', 'teachers', 'pomp', 'the', 'pettiness', 'of', 'the', 'whole', 'situation', 'all', 'remind', 'me', 'of', 'the', 'schools', 'i', 'knew', 'and', 'their', 'students', 'when', 'i', 'saw', 'the', 'episode', 'in', 'which', 'a', 'student', 'repeatedly', 'tried', 'to', 'burn', 'down', 'the', 'school', 'i', 'immediately', 'recalled', 'at', 'high', 'a', 'classic', 'line', 'inspector', 'im', 'here', 'to', 'sack', 'one', 'of', 'your', 'teachers', 'student', 'welcome', 'to', 'bromwell', 'high', 'i', 'expect', 'that', 'many', 'adults', 'of', 'my', 'age', 'think', 'that', 'bromwell', 'high', 'is', 'far', 'fetched', 'what', 'a', 'pity', 'that', 'it', 'isnt'], 'label': 'pos'}\n"
     ]
    }
   ],
   "source": [
    "# (코드 7-7.2) 코드 7-6과 결과 값 비교 >> 데이터셋 전처리 깔끔하게 됨\n",
    "print(vars(train_data.examples[0]))"
   ]
  },
  {
   "cell_type": "code",
   "execution_count": 19,
   "metadata": {},
   "outputs": [],
   "source": [
    "# (코드 7-8) 훈련 / 검증 데이터셋 분리\n",
    "import random\n",
    "train_data, valid_data = train_data.split(random_state=random.seed(0), split_ratio=0.8)\n",
    "# seed 값을 통해 동일한 코드를 여러 번 수행하더라도 동일한 값의 데이터 반환\n",
    "# 훈련: 검증 = 8:2"
   ]
  },
  {
   "cell_type": "code",
   "execution_count": 20,
   "metadata": {},
   "outputs": [
    {
     "name": "stdout",
     "output_type": "stream",
     "text": [
      "Number of training examples: 20000\n",
      "Number of validation examples: 5000\n",
      "Number of testing examples: 25000\n"
     ]
    }
   ],
   "source": [
    "# (코드 7-9) 데이터셋 개수 확인\n",
    "print(f'Number of training examples: {len(train_data)}')\n",
    "print(f'Number of validation examples: {len(valid_data)}')\n",
    "print(f'Number of testing examples: {len(test_data)}')"
   ]
  },
  {
   "cell_type": "code",
   "execution_count": 21,
   "metadata": {},
   "outputs": [
    {
     "name": "stdout",
     "output_type": "stream",
     "text": [
      "Unique tokens in TEXT vocabulary: 10002\n",
      "Unique tokens in LABEL vocabulary: 3\n"
     ]
    }
   ],
   "source": [
    "# (코드 7-10) 단어 집합 만들기\n",
    "# 아래 코드에서 vectors=None 으로, 임베딩 처리 부분에 대해 정의하지 않음 >> (코드 7-13)에서 진행할 예정\n",
    "TEXT.build_vocab(train_data, max_size=10000, min_freq=10, vectors=None)\n",
    "LABEL.build_vocab(train_data)\n",
    "\n",
    "print(f\"Unique tokens in TEXT vocabulary: {len(TEXT.vocab)}\")\n",
    "print(f\"Unique tokens in LABEL vocabulary: {len(LABEL.vocab)}\")\n",
    "# 실행 결과에서 LABEL은 긍정, 부정 두 개의 값만 나와야 하는데, 세 개가 있다고 출력됨 >> (코드 7-11)에서 확인"
   ]
  },
  {
   "cell_type": "code",
   "execution_count": 22,
   "metadata": {},
   "outputs": [
    {
     "name": "stdout",
     "output_type": "stream",
     "text": [
      "defaultdict(<bound method Vocab._default_unk_index of <torchtext.legacy.vocab.Vocab object at 0x000001786FCB5790>>, {'<unk>': 0, 'pos': 1, 'neg': 2})\n"
     ]
    }
   ],
   "source": [
    "# (코드 7-11) 테스트 데이터셋의 단어 집합 확인\n",
    "print(LABEL.vocab.stoi)\n",
    "\n",
    "# <unk>, pos, neg 로 구성되어 있음\n",
    "# <unk> : 사전에 없는 단어 의미"
   ]
  },
  {
   "cell_type": "code",
   "execution_count": 23,
   "metadata": {},
   "outputs": [],
   "source": [
    "# (코드 7-12) 데이터셋 메모리로 가져오기 >> BucketIterator() 이용\n",
    "BATCH_SIZE = 64\n",
    "device = torch.device('cuda:0' if torch.cuda.is_available() else 'cpu')\n",
    "\n",
    "embeding_dim = 100\n",
    "hidden_size = 300\n",
    "\n",
    "train_iterator, valid_iterator, test_iterator = torchtext.legacy.data.BucketIterator.splits(\n",
    "    (train_data, valid_data, test_data), \n",
    "    batch_size = BATCH_SIZE,\n",
    "    device = device)"
   ]
  },
  {
   "cell_type": "code",
   "execution_count": 24,
   "metadata": {},
   "outputs": [],
   "source": [
    "# (코드 7-13) 워드 임베딩(nn.Embedding()) 및 RNN 셀 정의\n",
    "class RNNCell_Encoder(nn.Module):\n",
    "    def __init__(self, input_dim, hidden_size):\n",
    "        super(RNNCell_Encoder, self).__init__()\n",
    "        self.rnn = nn.RNNCell(input_dim, hidden_size)\n",
    "\n",
    "    def forward(self, inputs):\n",
    "        bz = inputs.shape[1]\n",
    "        ht = torch.zeros((bz, hidden_size)).to(device)\n",
    "\n",
    "        for word in inputs:\n",
    "            ht = self.rnn(word, ht)\n",
    "        return ht\n",
    "\n",
    "class Net(nn.Module):\n",
    "    def __init__(self):\n",
    "        super(Net, self).__init__()\n",
    "        self.em = nn.Embedding(len(TEXT.vocab.stoi), embeding_dim)\n",
    "        self.rnn = RNNCell_Encoder(embeding_dim, hidden_size)\n",
    "        self.fc1 = nn.Linear(hidden_size, 256)\n",
    "        self.fc2 = nn.Linear(256, 3)\n",
    "\n",
    "    def forward(self, x):\n",
    "        x = self.em(x)\n",
    "        x = self.rnn(x)\n",
    "        x = F.relu(self.fc1(x))\n",
    "        x = self.fc2(x)\n",
    "        return x"
   ]
  },
  {
   "cell_type": "code",
   "execution_count": 25,
   "metadata": {},
   "outputs": [],
   "source": [
    "# (코드 7-14) 옵티마이저와 손실 함수 정의\n",
    "model = Net() # model 변수명으로 모델 객체화\n",
    "model.to(device)\n",
    "\n",
    "loss_fn = nn.CrossEntropyLoss() # 다중 분류에 사용됨\n",
    "optimizer = torch.optim.Adam(model.parameters(), lr=0.0001)"
   ]
  },
  {
   "cell_type": "code",
   "execution_count": 26,
   "metadata": {},
   "outputs": [],
   "source": [
    "# (코드 7-15) 모델 학습을 위한 함수 생성\n",
    "def training(epoch, model, trainloader, validloader):\n",
    "    correct = 0\n",
    "    total = 0\n",
    "    running_loss = 0\n",
    "\n",
    "    model.train()\n",
    "    for b in trainloader:\n",
    "        x, y = b.text, b.label # trainloader에서 text와 label을 꺼내옴\n",
    "        x, y = x.to(device), y.to(device)\n",
    "        y_pred = model(x)\n",
    "        loss = loss_fn(y_pred, y) # CrossEntropyLoss 손실 함수를 이용해서 오차 계산\n",
    "        optimizer.zero_grad()\n",
    "        loss.backward()\n",
    "        optimizer.step()\n",
    "        with torch.no_grad():\n",
    "            y_pred = torch.argmax(y_pred, dim=1)\n",
    "            correct += (y_pred == y).sum().item()\n",
    "            total += y.size(0)\n",
    "            running_loss += loss.item()\n",
    "    epoch_loss = running_loss / len(trainloader.dataset)\n",
    "    epoch_acc = correct / total\n",
    "\n",
    "    valid_correct = 0\n",
    "    valid_total = 0\n",
    "    valid_running_loss = 0\n",
    "\n",
    "    model.eval()\n",
    "    with torch.no_grad():\n",
    "        for b in validloader:\n",
    "            x, y = b.text, b.label\n",
    "            x, y = x.to(device), y.to(device)\n",
    "            y_pred = model(x)\n",
    "            loss = loss_fn(y_pred, y)\n",
    "            y_pred = torch.argmax(y_pred, dim=1)\n",
    "            valid_correct += (y_pred == y).sum().item()\n",
    "            valid_total += y.size(0)\n",
    "            valid_running_loss += loss.item()\n",
    "\n",
    "    epoch_valid_loss = valid_running_loss / len(validloader.dataset)\n",
    "    epoch_valid_acc = valid_correct / valid_total\n",
    "\n",
    "    print('epoch: ', epoch,\n",
    "          'loss: ', round(epoch_loss, 3),\n",
    "          'accuracy:', round(epoch_acc, 3),\n",
    "          'valid_loss: ', round(epoch_valid_loss, 3),\n",
    "          'valid_accuracy:', round(epoch_valid_acc, 3)\n",
    "          )\n",
    "    return epoch_loss, epoch_acc, epoch_valid_loss, epoch_valid_acc"
   ]
  },
  {
   "cell_type": "code",
   "execution_count": 27,
   "metadata": {},
   "outputs": [
    {
     "name": "stdout",
     "output_type": "stream",
     "text": [
      "epoch:  0 loss：  0.011 accuracy: 0.494 valid_loss：  0.011 valid_accuracy: 0.507\n",
      "epoch:  1 loss：  0.011 accuracy: 0.504 valid_loss：  0.011 valid_accuracy: 0.492\n",
      "epoch:  2 loss：  0.011 accuracy: 0.512 valid_loss：  0.011 valid_accuracy: 0.496\n",
      "epoch:  3 loss：  0.011 accuracy: 0.517 valid_loss：  0.011 valid_accuracy: 0.496\n",
      "epoch:  4 loss：  0.011 accuracy: 0.525 valid_loss：  0.011 valid_accuracy: 0.511\n",
      "6859.17232966423\n"
     ]
    }
   ],
   "source": [
    "# (코드 7-16) 훈련과 검증 데이터셋을 이용한 모델 학습\n",
    "epochs = 5\n",
    "train_loss = []\n",
    "train_acc = []\n",
    "valid_loss = []\n",
    "valid_acc = []\n",
    "\n",
    "for epoch in range(epochs):\n",
    "    epoch_loss, epoch_acc, epoch_valid_loss, epoch_valid_acc = training(epoch, model, train_iterator, valid_iterator)\n",
    "    train_loss.append(epoch_loss) # 훈련 데이터셋을 모델에 적용했을 때의 '오차'\n",
    "    train_acc.append(epoch_acc) # 훈련 데이터셋을 모델에 적용했을 때의 '정확도'\n",
    "    valid_loss.append(epoch_valid_loss) # 검증 데이터셋을 모델에 적용했을 때의 '오차'\n",
    "    valid_acc.append(epoch_valid_acc) # 검증 데이터셋을 모델에 적용했을 때의 '정확도'\n",
    "\n",
    "end = time.time()\n",
    "print(end-start)\n",
    "\n",
    "# 실행 결과 보면, epoch=5 이므로, 정확도가 낮지만, 학습&검증 데이터셋에 대한 오차가 유사하기 때문에 과적합은 발생하지 않음을 알 수 있음"
   ]
  },
  {
   "cell_type": "code",
   "execution_count": 28,
   "metadata": {},
   "outputs": [],
   "source": [
    "# (코드 7-17) 모델 예측 함수 정의\n",
    "def evaluate(epoch, model, testloader):    \n",
    "    test_correct = 0\n",
    "    test_total = 0\n",
    "    test_running_loss = 0\n",
    "    \n",
    "    model.eval()\n",
    "    with torch.no_grad():\n",
    "        for b in testloader:\n",
    "            x, y = b.text, b.label\n",
    "            x, y = x.to(device), y.to(device)\n",
    "            y_pred = model(x)\n",
    "            loss = loss_fn(y_pred, y)\n",
    "            y_pred = torch.argmax(y_pred, dim=1)\n",
    "            test_correct += (y_pred == y).sum().item()\n",
    "            test_total += y.size(0)\n",
    "            test_running_loss += loss.item()\n",
    "\n",
    "    epoch_test_loss = test_running_loss / len(testloader.dataset)\n",
    "    epoch_test_acc = test_correct / test_total\n",
    "\n",
    "    print('epoch: ', epoch,\n",
    "          'test_loss: ', round(epoch_test_loss, 3),\n",
    "          'test_accuracy:', round(epoch_test_acc, 3)\n",
    "          )\n",
    "    return epoch_test_loss, epoch_test_acc"
   ]
  },
  {
   "cell_type": "code",
   "execution_count": 29,
   "metadata": {},
   "outputs": [
    {
     "name": "stdout",
     "output_type": "stream",
     "text": [
      "epoch:  0 test_loss:  0.011 test_accuracy: 0.5\n",
      "epoch:  1 test_loss:  0.011 test_accuracy: 0.5\n",
      "epoch:  2 test_loss:  0.011 test_accuracy: 0.5\n",
      "epoch:  3 test_loss:  0.011 test_accuracy: 0.5\n",
      "epoch:  4 test_loss:  0.011 test_accuracy: 0.5\n",
      "6966.580687522888\n"
     ]
    }
   ],
   "source": [
    "# (코드 7-18) 모델 예측 결과 확인\n",
    "epochs = 5\n",
    "test_loss = []\n",
    "test_acc = []\n",
    "\n",
    "for epoch in range(epochs):\n",
    "    epoch_test_loss, epoch_test_acc = evaluate(epoch, model, test_iterator)\n",
    "    test_loss.append(epoch_test_loss) # 테스트 데이터셋을 모델에 적용했을 때의 '오차'\n",
    "    test_acc.append(epoch_test_acc) # 테스트 데이터셋을 모델에 적용했을 때의 '정확도'\n",
    "\n",
    "end = time.time()\n",
    "print(end-start)"
   ]
  },
  {
   "cell_type": "markdown",
   "metadata": {},
   "source": [
    "### 7.4.2. RNN 계층 구현"
   ]
  },
  {
   "cell_type": "code",
   "execution_count": 30,
   "metadata": {},
   "outputs": [],
   "source": [
    "# (코드 7-19) 라이브러리 호출\n",
    "import torch\n",
    "import torchtext\n",
    "import numpy as np\n",
    "import torch.nn as nn\n",
    "import torch.nn.functional as F\n",
    "import time"
   ]
  },
  {
   "cell_type": "code",
   "execution_count": 31,
   "metadata": {},
   "outputs": [],
   "source": [
    "# (코드 7-20) IMDB 데이터셋을 내려받은 후 전처리 진행\n",
    "from torchtext.legacy import datasets\n",
    "\n",
    "start = time.time()\n",
    "TEXT = torchtext.legacy.data.Field(sequential=True, batch_first=True, lower=True)\n",
    "LABEL = torchtext.legacy.data.Field(sequential=False, batch_first=True)\n",
    "\n",
    "# 학습 데이터, 테스트 데이터 분리\n",
    "train_data, test_data = datasets.IMDB.splits(TEXT, LABEL)\n",
    "# 학습 데이터, 검증 데이터 분리\n",
    "train_data, valid_data = train_data.split(split_ratio=0.8)\n",
    "\n",
    "# 단어 집합 만들기 (중복은 제거된 상태에서 진행, 특정 단어가 최소 열 번 이상 등장한 것만 단어 집합에 추가)\n",
    "TEXT.build_vocab(train_data, max_size = 10000, min_freq=10, vectors=None)\n",
    "LABEL.build_vocab(train_data)\n",
    "\n",
    "BATCH_SIZE = 100\n",
    "device = torch.device(\"cuda:0\" if torch.cuda.is_available() else \"cpu\")"
   ]
  },
  {
   "cell_type": "code",
   "execution_count": 33,
   "metadata": {},
   "outputs": [],
   "source": [
    "# (코드 7-21) BucketIterator()를 이용하여 훈련/검증/테스트 데이터셋으로 분리\n",
    "train_iterator, valid_iterator, test_iterator = torchtext.legacy.data.BucketIterator.splits(\n",
    "    (train_data, valid_data, test_data), \n",
    "    batch_size = BATCH_SIZE,\n",
    "    device = device)"
   ]
  },
  {
   "cell_type": "code",
   "execution_count": 34,
   "metadata": {},
   "outputs": [],
   "source": [
    "# (코드 7-22) 변수 값 지정\n",
    "# vocab_size: 영화 리뷰에 대한 텍스트 길이\n",
    "# n_classes: 레이블(긍정, 부정) 값 지정\n",
    "vocab_size = len(TEXT.vocab)\n",
    "n_classes = 2 # pos(긍정), neg(부정)"
   ]
  },
  {
   "cell_type": "code",
   "execution_count": 35,
   "metadata": {},
   "outputs": [],
   "source": [
    "# (코드 7-23) RNN 계층 네트워크\n",
    "class BasicRNN(nn.Module):\n",
    "    def __init__(self, n_layers, hidden_dim, n_vocab, embed_dim, n_classes, dropout_p = 0.2):\n",
    "        super(BasicRNN, self).__init__()\n",
    "        self.n_layers = n_layers \n",
    "        self.embed = nn.Embedding(n_vocab, embed_dim) \n",
    "        self.hidden_dim = hidden_dim\n",
    "        self.dropout = nn.Dropout(dropout_p)\n",
    "        self.rnn = nn.RNN(embed_dim, self.hidden_dim, num_layers = self.n_layers, batch_first = True) \n",
    "        self.out = nn.Linear(self.hidden_dim, n_classes) \n",
    "\n",
    "    def forward(self, x):\n",
    "        x = self.embed(x) \n",
    "        h_0 = self._init_state(batch_size = x.size(0)) \n",
    "        x, _ = self.rnn(x, h_0) \n",
    "        h_t = x[:, -1, :] \n",
    "        self.dropout(h_t)\n",
    "        logit = torch.sigmoid(self.out(h_t))\n",
    "        return logit\n",
    "\n",
    "    def _init_state(self, batch_size = 1):\n",
    "        weight = next(self.parameters()).data \n",
    "        return weight.new(self.n_layers, batch_size, self.hidden_dim).zero_()"
   ]
  },
  {
   "cell_type": "code",
   "execution_count": 36,
   "metadata": {},
   "outputs": [],
   "source": [
    "# (코드 7-24) 모델에서 사용할 손실함수, 옵티마이저 설정\n",
    "model = BasicRNN(n_layers=1, hidden_dim=256, n_vocab=vocab_size, embed_dim=128, n_classes=n_classes, dropout_p=0.5)\n",
    "model.to(device)\n",
    "\n",
    "loss_fn = nn.CrossEntropyLoss()\n",
    "optimizer = torch.optim.Adam(model.parameters(), lr=0.0001)"
   ]
  },
  {
   "cell_type": "code",
   "execution_count": 37,
   "metadata": {},
   "outputs": [],
   "source": [
    "# (코드 7-25) 훈련 데이터셋을 이용해서 모델 학습시키기 위한 학습 (모델 학습 함수)\n",
    "def train(model, optimizer, train_iter):\n",
    "    model.train()\n",
    "    for b, batch in enumerate(train_iter):\n",
    "        x, y = batch.text.to(device), batch.label.to(device)\n",
    "        y.data.sub_(1) # IMDB 레이블에서 긍정은 2, 부정은 1의 값을 갖음 >> y.data에서 1을 뺀다는 의미 = 레이블 값을 0과 1으로 변환하겠다는 의미\n",
    "        optimizer.zero_grad()\n",
    "\n",
    "        logit = model(x)\n",
    "        loss = F.cross_entropy(logit, y)\n",
    "        loss.backward()\n",
    "        optimizer.step()\n",
    "\n",
    "        if b % 50 == 0:\n",
    "            print(\"Train Epoch: {} [{}/{} ({:.0f}%)]\\tLoss: {:.6f}\".format(e, b * len(x), len(train_iter.dataset), 100. * b / len(train_iter), loss.item()))"
   ]
  },
  {
   "cell_type": "code",
   "execution_count": 38,
   "metadata": {},
   "outputs": [],
   "source": [
    "# (코드 7-26) 모델 평가 함수\n",
    "def evaluate(model, val_iter):\n",
    "    model.eval()\n",
    "    corrects, total, total_loss = 0, 0, 0\n",
    "\n",
    "    for batch in val_iter:\n",
    "        x, y = batch.text.to(device), batch.label.to(device)\n",
    "        y.data.sub_(1) \n",
    "        logit = model(x)\n",
    "        loss = F.cross_entropy(logit, y, reduction = \"sum\")\n",
    "        total += y.size(0)\n",
    "        total_loss += loss.item()\n",
    "        corrects += (logit.max(1)[1].view(y.size()).data == y.data).sum()\n",
    "        \n",
    "    avg_loss = total_loss / len(val_iter.dataset)\n",
    "    avg_accuracy = corrects / total\n",
    "    return avg_loss, avg_accuracy"
   ]
  },
  {
   "cell_type": "code",
   "execution_count": 39,
   "metadata": {},
   "outputs": [
    {
     "name": "stdout",
     "output_type": "stream",
     "text": [
      "Train Epoch: 1 [0/20000 (0%)]\tLoss: 0.714422\n",
      "Train Epoch: 1 [5000/20000 (25%)]\tLoss: 0.693294\n",
      "Train Epoch: 1 [10000/20000 (50%)]\tLoss: 0.691874\n",
      "Train Epoch: 1 [15000/20000 (75%)]\tLoss: 0.698530\n",
      "[EPOCH: 1], Validation Loss:  0.69 | Validation Accuracy:  0.49\n",
      "Train Epoch: 2 [0/20000 (0%)]\tLoss: 0.694857\n",
      "Train Epoch: 2 [5000/20000 (25%)]\tLoss: 0.693424\n",
      "Train Epoch: 2 [10000/20000 (50%)]\tLoss: 0.692359\n",
      "Train Epoch: 2 [15000/20000 (75%)]\tLoss: 0.697260\n",
      "[EPOCH: 2], Validation Loss:  0.69 | Validation Accuracy:  0.50\n",
      "Train Epoch: 3 [0/20000 (0%)]\tLoss: 0.695559\n",
      "Train Epoch: 3 [5000/20000 (25%)]\tLoss: 0.692803\n",
      "Train Epoch: 3 [10000/20000 (50%)]\tLoss: 0.693955\n",
      "Train Epoch: 3 [15000/20000 (75%)]\tLoss: 0.692833\n",
      "[EPOCH: 3], Validation Loss:  0.69 | Validation Accuracy:  0.50\n",
      "Train Epoch: 4 [0/20000 (0%)]\tLoss: 0.689093\n",
      "Train Epoch: 4 [5000/20000 (25%)]\tLoss: 0.694507\n",
      "Train Epoch: 4 [10000/20000 (50%)]\tLoss: 0.692851\n",
      "Train Epoch: 4 [15000/20000 (75%)]\tLoss: 0.693906\n",
      "[EPOCH: 4], Validation Loss:  0.69 | Validation Accuracy:  0.50\n",
      "Train Epoch: 5 [0/20000 (0%)]\tLoss: 0.695587\n",
      "Train Epoch: 5 [5000/20000 (25%)]\tLoss: 0.693272\n",
      "Train Epoch: 5 [10000/20000 (50%)]\tLoss: 0.692417\n",
      "Train Epoch: 5 [15000/20000 (75%)]\tLoss: 0.687057\n",
      "[EPOCH: 5], Validation Loss:  0.69 | Validation Accuracy:  0.50\n"
     ]
    }
   ],
   "source": [
    "# (코드 7-27) 훈련 데이터셋을 이용하여 모델을 학습 & 검증 데이터셋을 이용하여 성능(정확도) 확인\n",
    "BATCH_SIZE = 100\n",
    "LR = 0.001\n",
    "EPOCHS = 5\n",
    "for e in range(1, EPOCHS + 1):\n",
    "    train(model, optimizer, train_iterator)\n",
    "    val_loss, val_accuracy = evaluate(model, valid_iterator)\n",
    "    print(\"[EPOCH: %d], Validation Loss: %5.2f | Validation Accuracy: %5.2f\" % (e, val_loss, val_accuracy))"
   ]
  },
  {
   "cell_type": "code",
   "execution_count": 40,
   "metadata": {},
   "outputs": [
    {
     "name": "stdout",
     "output_type": "stream",
     "text": [
      "Test Loss:  0.70 | Test Accuracy:  0.44\n"
     ]
    }
   ],
   "source": [
    "# (코드 7-28) 테스트 데이터셋을 이용한 모델 예측\n",
    "test_loss, test_acc = evaluate(model,test_iterator) # (코드 7-26)에서 정의한 함수\n",
    "print(\"Test Loss: %5.2f | Test Accuracy: %5.2f\" % (test_loss, test_acc))"
   ]
  }
 ],
 "metadata": {
  "kernelspec": {
   "display_name": "base",
   "language": "python",
   "name": "python3"
  },
  "language_info": {
   "codemirror_mode": {
    "name": "ipython",
    "version": 3
   },
   "file_extension": ".py",
   "mimetype": "text/x-python",
   "name": "python",
   "nbconvert_exporter": "python",
   "pygments_lexer": "ipython3",
   "version": "3.9.12"
  },
  "orig_nbformat": 4
 },
 "nbformat": 4,
 "nbformat_minor": 2
}
