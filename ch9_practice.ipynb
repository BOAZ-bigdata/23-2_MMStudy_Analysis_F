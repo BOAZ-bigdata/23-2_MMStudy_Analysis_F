{
 "cells": [
  {
   "cell_type": "markdown",
   "metadata": {},
   "source": [
    "# CH9. 자연어 **전**처리"
   ]
  },
  {
   "cell_type": "markdown",
   "metadata": {},
   "source": [
    "## 0. 필요한 라이브러리 \n",
    "- [nltk](nltk.pos_tag(tokenized_corpus))"
   ]
  },
  {
   "cell_type": "code",
   "execution_count": 1,
   "metadata": {},
   "outputs": [
    {
     "name": "stderr",
     "output_type": "stream",
     "text": [
      "[nltk_data] Downloading package stopwords to\n",
      "[nltk_data]     /Users/hwanghyejeong/nltk_data...\n",
      "[nltk_data]   Package stopwords is already up-to-date!\n",
      "[nltk_data] Downloading package wordnet to\n",
      "[nltk_data]     /Users/hwanghyejeong/nltk_data...\n",
      "[nltk_data]   Package wordnet is already up-to-date!\n",
      "[nltk_data] Downloading package averaged_perceptron_tagger to\n",
      "[nltk_data]     /Users/hwanghyejeong/nltk_data...\n",
      "[nltk_data]   Package averaged_perceptron_tagger is already up-to-\n",
      "[nltk_data]       date!\n"
     ]
    }
   ],
   "source": [
    "import pprint\n",
    "\n",
    "import nltk\n",
    "nltk.download('stopwords')\n",
    "nltk.download('wordnet')\n",
    "nltk.download('averaged_perceptron_tagger')\n",
    "from nltk.corpus import stopwords\n",
    "from nltk.stem import WordNetLemmatizer,LancasterStemmer,PorterStemmer"
   ]
  },
  {
   "cell_type": "markdown",
   "metadata": {},
   "source": [
    "## 1. NLP 용어\n",
    "- `corpus`\n",
    "- `token` & `tokenization`\n",
    "- `stop words`\n",
    "- `stemming`\n",
    "- `lemmatization`\n",
    "- `pos(part-of-speech) tagging`"
   ]
  },
  {
   "cell_type": "markdown",
   "metadata": {},
   "source": [
    "### 1.1 What is Corpus?\n",
    "- `corpus` : 자연어처리에서 모델을 학습시키키 위한 데이터\n",
    "    - 자연어 연구를 위해 특정한 목적에서 표본을 추출한 집합"
   ]
  },
  {
   "cell_type": "code",
   "execution_count": 2,
   "metadata": {},
   "outputs": [],
   "source": [
    "corpus = [\n",
    "    \"i love you\", \n",
    "    \"he loves me\", \n",
    "    \"she likes baseball\", \n",
    "    \"i hate you\", \n",
    "    \"sorry for that\", \n",
    "    \"this is awful\"\n",
    "]"
   ]
  },
  {
   "cell_type": "markdown",
   "metadata": {},
   "source": [
    "### 1.2 What is Token & Tokenization?\n",
    "- `token` : 자연어처리를 위해 문서를 나누는 단위\n",
    "- `tokenization` : 문서를 문장이나 단어(상황에 따라 다름)로 분리하는 것"
   ]
  },
  {
   "cell_type": "code",
   "execution_count": 3,
   "metadata": {},
   "outputs": [
    {
     "name": "stdout",
     "output_type": "stream",
     "text": [
      "['i love you',\n",
      " 'he loves me',\n",
      " 'she likes baseball',\n",
      " 'i hate you',\n",
      " 'sorry for that',\n",
      " 'this is awful']\n",
      "\n",
      "== After Tokenization ==\n",
      "\n",
      "['i',\n",
      " 'love',\n",
      " 'you',\n",
      " 'he',\n",
      " 'loves',\n",
      " 'me',\n",
      " 'she',\n",
      " 'likes',\n",
      " 'baseball',\n",
      " 'i',\n",
      " 'hate',\n",
      " 'you',\n",
      " 'sorry',\n",
      " 'for',\n",
      " 'that',\n",
      " 'this',\n",
      " 'is',\n",
      " 'awful']\n"
     ]
    }
   ],
   "source": [
    "pprint.pprint(corpus)\n",
    "corpus_in_one_sentence = \" \".join(corpus)\n",
    "tokenized_corpus = corpus_in_one_sentence.split()\n",
    "print(\"\\n== After Tokenization ==\\n\")\n",
    "pprint.pprint(tokenized_corpus)"
   ]
  },
  {
   "cell_type": "markdown",
   "metadata": {},
   "source": [
    "### 1.3 What is Stop Words?\n",
    "- `stop words` : 불용어\n",
    "    - 문장 내에서 많이 등장한다.\n",
    "        - 그러나 분석과 관계 없다.\n",
    "        - 분석 모델의 성능을 위해 사전에 제거해줘야 함\n",
    "    - 예시 : \"a\", \"the\""
   ]
  },
  {
   "cell_type": "code",
   "execution_count": 7,
   "metadata": {},
   "outputs": [
    {
     "name": "stdout",
     "output_type": "stream",
     "text": [
      "['i',\n",
      " 'love',\n",
      " 'you',\n",
      " 'he',\n",
      " 'loves',\n",
      " 'me',\n",
      " 'she',\n",
      " 'likes',\n",
      " 'baseball',\n",
      " 'i',\n",
      " 'hate',\n",
      " 'you',\n",
      " 'sorry',\n",
      " 'for',\n",
      " 'that',\n",
      " 'this',\n",
      " 'is',\n",
      " 'awful']\n",
      "\n",
      "== After Removing Stop Words! ==\n",
      "\n",
      "['love', 'loves', 'likes', 'baseball', 'hate', 'sorry', 'awful']\n"
     ]
    }
   ],
   "source": [
    "stop_words = set(stopwords.words('english'))\n",
    "pprint.pprint(tokenized_corpus)\n",
    "print(\"\\n== After Removing Stop Words! ==\\n\")\n",
    "stop_words_removed_tokenized_corpus = list(filter(lambda word: word not in stop_words,tokenized_corpus))\n",
    "pprint.pprint(stop_words_removed_tokenized_corpus)"
   ]
  },
  {
   "cell_type": "markdown",
   "metadata": {},
   "source": [
    "### 1.4 What is Stemming?\n",
    "- `stemming` : 어간 추출\n",
    "    - 단어를 기본 형태로 만드는 작업\n",
    "    - 품사가 달라도 사용 가능\n",
    "        - 예시 : Automates, automatic, automation -> automat\n",
    "    - 단어 자체만을 고려하야 사전에 없는 단어도 추출할 수 있다.\n",
    "    - 방법\n",
    "        - `potter` : 단어 원형이 비교적 잘 보존\n",
    "        - `lancaster` : 단어 원형을 알아볼 수 없을 정도로 축소\n",
    "            - 정확도가 낮아, 데이터셋 축소가 필요한 특수한 상황에서만 사용"
   ]
  },
  {
   "cell_type": "code",
   "execution_count": 19,
   "metadata": {},
   "outputs": [
    {
     "name": "stdout",
     "output_type": "stream",
     "text": [
      "loves\n",
      "\n",
      "== After Stemming using Porter! ==\n",
      "\n",
      "love\n"
     ]
    }
   ],
   "source": [
    "porter_stemmer = PorterStemmer()\n",
    "\n",
    "sample_word = \"loves\"\n",
    "print(sample_word)\n",
    "print(\"\\n== After Stemming using Porter! ==\\n\")\n",
    "print(porter_stemmer.stem(sample_word))"
   ]
  },
  {
   "cell_type": "code",
   "execution_count": 20,
   "metadata": {},
   "outputs": [
    {
     "name": "stdout",
     "output_type": "stream",
     "text": [
      "loves\n",
      "\n",
      "== After Stemming using Lancaseter! ==\n",
      "\n",
      "lov\n"
     ]
    }
   ],
   "source": [
    "lancaster_stemmer = LancasterStemmer()\n",
    "\n",
    "sample_word = \"loves\"\n",
    "print(sample_word)\n",
    "print(\"\\n== After Stemming using Lancaseter! ==\\n\")\n",
    "print(lancaster_stemmer.stem(sample_word))"
   ]
  },
  {
   "cell_type": "markdown",
   "metadata": {},
   "source": [
    "### 1.5 What is Lemmatization?\n",
    "- `lemmatization` : 표제어 추출\n",
    "    - 단어를 기본 형태로 만드는 작업\n",
    "    - 품사가 같아야 사용 가능\n",
    "        - am, are, is -> be\n"
   ]
  },
  {
   "cell_type": "code",
   "execution_count": 21,
   "metadata": {},
   "outputs": [
    {
     "name": "stdout",
     "output_type": "stream",
     "text": [
      "loves\n",
      "\n",
      "== After Lemmatization! ==\n",
      "\n",
      "love\n"
     ]
    }
   ],
   "source": [
    "lemmatizer = WordNetLemmatizer()\n",
    "\n",
    "sample_word = \"loves\"\n",
    "print(sample_word)\n",
    "print(\"\\n== After Lemmatization! ==\\n\")\n",
    "print(lemmatizer.lemmatize(sample_word))"
   ]
  },
  {
   "cell_type": "markdown",
   "metadata": {},
   "source": [
    "### 1.6 What is POS Tagging?\n",
    "- `pos` : part-of-speech, 품사\n",
    "- `pos tagging` : 주어진 문장에서 품사를 식졀하기 위해 태그를 붙여주는 것\n",
    "- [품사 태깅 종류(nltk 라이브러리 기준)](https://www.guru99.com/pos-tagging-chunking-nltk.html)\n",
    "    - `VBZ`,`VBG` : 동사, 동명사, 현재분사\n",
    "    - `PRP` : 인칭대명사\n",
    "    - `JJ` : 형용사\n",
    "    - `NNS` : 명사, 복수형\n",
    "    - `CC` : 등위 접속사\n",
    "\n"
   ]
  },
  {
   "cell_type": "code",
   "execution_count": 22,
   "metadata": {},
   "outputs": [
    {
     "data": {
      "text/plain": [
       "[('i', 'NN'),\n",
       " ('love', 'VBP'),\n",
       " ('you', 'PRP'),\n",
       " ('he', 'PRP'),\n",
       " ('loves', 'VBZ'),\n",
       " ('me', 'PRP'),\n",
       " ('she', 'PRP'),\n",
       " ('likes', 'VBZ'),\n",
       " ('baseball', 'NN'),\n",
       " ('i', 'NN'),\n",
       " ('hate', 'VBP'),\n",
       " ('you', 'PRP'),\n",
       " ('sorry', 'VBP'),\n",
       " ('for', 'IN'),\n",
       " ('that', 'DT'),\n",
       " ('this', 'DT'),\n",
       " ('is', 'VBZ'),\n",
       " ('awful', 'JJ')]"
      ]
     },
     "execution_count": 22,
     "metadata": {},
     "output_type": "execute_result"
    }
   ],
   "source": [
    "nltk.pos_tag(tokenized_corpus)"
   ]
  }
 ],
 "metadata": {
  "kernelspec": {
   "display_name": "23-2_MMStudy_Analysis_F-O1JOBGQa",
   "language": "python",
   "name": "python3"
  },
  "language_info": {
   "codemirror_mode": {
    "name": "ipython",
    "version": 3
   },
   "file_extension": ".py",
   "mimetype": "text/x-python",
   "name": "python",
   "nbconvert_exporter": "python",
   "pygments_lexer": "ipython3",
   "version": "3.11.4"
  },
  "orig_nbformat": 4
 },
 "nbformat": 4,
 "nbformat_minor": 2
}
