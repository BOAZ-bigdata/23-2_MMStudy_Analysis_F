{
 "cells": [
  {
   "cell_type": "markdown",
   "metadata": {},
   "source": [
    "#### 4. 딥러닝 시작\n",
    "##### 4.1. 인공 신경망의 한계와 딥러닝 출현\n",
    "##### 4.2. 딥러닝 구조\n",
    "##### 4.3. 딥러닝 알고리즘\n",
    "##### 4.4. 우리는 무엇을 배워야할까?"
   ]
  },
  {
   "cell_type": "markdown",
   "metadata": {},
   "source": [
    "#### 4.2. 딥러닝 구조\n",
    "##### 4.2.3 딥러닝의 문제점과 해결 방안\n",
    "- 딥러닝의 핵심 \n",
    "    - 활성화 함수가 적용된 여러 은닉층을 결합하여 비선형 영역을 표현하는 것\n",
    "    - 활성화 함수가 적용된 은닉층 개수가 많을 수록 **훈련데이터**에 대해서는 데이터 분류가 잘 된다.\n",
    "- 딥러닝 학습 과정에서 발생할 수 있는 문제와 해결 방법\n",
    "    - 과적합\n",
    "        - 위처럼 훈련 데이터에 대해 과하게 학습하면, **실제 데이터** 에 대한 오차가 발생하는 과적합 현상이 발생한다.\n",
    "        - 해결 방법\n",
    "            - 드롭아웃 : 학습 과정 중 임의로 일부 노드들을 학습에서 제외시킨다.\n",
    "            - 배치 정규화\n",
    "    - 기울기 소멸\n",
    "        - 은닉층이 많은 신경망에서 주로 발생, 출력층에서 은닉층으로 전달되는 오차가 크게 줄어 들어 학습이 되지 않는 현상이다.\n",
    "        - 해결 방법\n",
    "            - 시그모이드 또는 하이퍼볼릭 탄젠트 활성화 함수를 사용했다면, 렐루 활성화 함수로 대체\n",
    "    - 성능이 나빠지는 문제 발생\n",
    "        - 경사 하강법을 반복하다보면, 성능이 나빠진다.\n",
    "        - 해결 방법\n",
    "            - 확률적 경사 하강법\n",
    "            - 미니 배치 경사 하강법"
   ]
  },
  {
   "cell_type": "code",
   "execution_count": 4,
   "metadata": {},
   "outputs": [
    {
     "name": "stdout",
     "output_type": "stream",
     "text": [
      "Batch 1\n",
      "- Inputs: tensor([[1., 2., 3.],\n",
      "        [3., 6., 9.]])\n",
      "- Targets: tensor([[12.],\n",
      "        [11.]])\n",
      "- Batch size: 2\n",
      "\n",
      "Batch 2\n",
      "- Inputs: tensor([[ 2.,  4.,  6.],\n",
      "        [ 4.,  8., 12.]])\n",
      "- Targets: tensor([[18.],\n",
      "        [14.]])\n",
      "- Batch size: 2\n",
      "\n"
     ]
    }
   ],
   "source": [
    "# 미니 배치 경사 하강법 실습\n",
    "from dataset import CustomDataset\n",
    "from data import load_data_using_mini_batch \n",
    "\n",
    "dataset = CustomDataset()\n",
    "mini_batch_size = 2\n",
    "dataloader = load_data_using_mini_batch(dataset,mini_batch_size)\n",
    "\n",
    "for batch_num,batch in enumerate(dataloader):\n",
    "    print(f\"Batch {batch_num + 1}\")\n",
    "    inputs, targets = batch\n",
    "    print(\"- Inputs:\", inputs)\n",
    "    print(\"- Targets:\", targets)\n",
    "    print(\"- Batch size:\", inputs.size(0))\n",
    "    print()"
   ]
  }
 ],
 "metadata": {
  "kernelspec": {
   "display_name": "23-2_MMStudy_Analysis_F-O1JOBGQa",
   "language": "python",
   "name": "python3"
  },
  "language_info": {
   "codemirror_mode": {
    "name": "ipython",
    "version": 3
   },
   "file_extension": ".py",
   "mimetype": "text/x-python",
   "name": "python",
   "nbconvert_exporter": "python",
   "pygments_lexer": "ipython3",
   "version": "3.11.4"
  },
  "orig_nbformat": 4
 },
 "nbformat": 4,
 "nbformat_minor": 2
}
