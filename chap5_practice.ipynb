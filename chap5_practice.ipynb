{
 "cells": [
  {
   "cell_type": "code",
   "execution_count": 2,
   "metadata": {},
   "outputs": [
    {
     "name": "stdout",
     "output_type": "stream",
     "text": [
      "----------------------------------------------------------------\n",
      "        Layer (type)               Output Shape         Param #\n",
      "================================================================\n",
      "            Linear-1                 [-1, 1200]         942,000\n",
      "           Dropout-2                 [-1, 1200]               0\n",
      "            Linear-3                 [-1, 1200]       1,441,200\n",
      "           Dropout-4                 [-1, 1200]               0\n",
      "            Linear-5                   [-1, 10]          12,010\n",
      "================================================================\n",
      "Total params: 2,395,210\n",
      "Trainable params: 2,395,210\n",
      "Non-trainable params: 0\n",
      "----------------------------------------------------------------\n",
      "Input size (MB): 0.00\n",
      "Forward/backward pass size (MB): 0.04\n",
      "Params size (MB): 9.14\n",
      "Estimated Total Size (MB): 9.18\n",
      "----------------------------------------------------------------\n"
     ]
    }
   ],
   "source": [
    "from models import DropoutModel\n",
    "from torchsummary import summary\n",
    "\n",
    "model_with_dropout = DropoutModel()\n",
    "summary(model_with_dropout, (784,))"
   ]
  },
  {
   "cell_type": "code",
   "execution_count": null,
   "metadata": {},
   "outputs": [],
   "source": []
  }
 ],
 "metadata": {
  "kernelspec": {
   "display_name": "23-2_MMStudy_Analysis_F-O1JOBGQa",
   "language": "python",
   "name": "python3"
  },
  "language_info": {
   "codemirror_mode": {
    "name": "ipython",
    "version": 3
   },
   "file_extension": ".py",
   "mimetype": "text/x-python",
   "name": "python",
   "nbconvert_exporter": "python",
   "pygments_lexer": "ipython3",
   "version": "3.11.4"
  },
  "orig_nbformat": 4
 },
 "nbformat": 4,
 "nbformat_minor": 2
}
