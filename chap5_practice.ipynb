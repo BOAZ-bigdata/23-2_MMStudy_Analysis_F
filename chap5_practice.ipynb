{
 "cells": [
  {
   "cell_type": "markdown",
   "metadata": {},
   "source": [
    "#### **5. 합성곱 신경망**\n",
    "#### **목차**\n",
    "- 5.1. 합성곱 신경망\n",
    "- 5.2. 합성곱 신경망 맛보기\n",
    "- 5.3. 전이 학습\n",
    "- 5.4. 설명 가능한 CNN\n",
    "- 5.5. 그래프 합성곱 네트워크"
   ]
  },
  {
   "cell_type": "markdown",
   "metadata": {},
   "source": [
    "#### **5.1. 합성곱 신경망**\n",
    "##### 5.1.1 합성곱층의 필요성\n",
    "- 이미지 데이터의 경우 데이터의 공간적 구조를 무시하지 않기 위해 등장\n",
    "##### 5.1.2 합성곱 신경망 구조\n",
    "- 합성곱 신경망의 계층\n",
    "    - 입력층\n",
    "    - 합성곱층\n",
    "    - 풀링층\n",
    "        - 특성 맵의 차원을 다운 샘플링하여 연산량을 감소\n",
    "        - 종류\n",
    "            - 최대 풀링\n",
    "            - 평균 풀링\n",
    "    - 완전연결층\n",
    "    - 출력층\n",
    "##### 5.1.3 1D,2D,3D 합성곱\n",
    "- 1D 합성곱\n",
    "    - 필터가 시간을 축으로 좌우로만 이동할 수 있는 합성곱\n",
    "    - 출력 형태: 1D 배열\n",
    "- 3D 입력을 갖는 2D 합성곱\n"
   ]
  },
  {
   "cell_type": "markdown",
   "metadata": {},
   "source": [
    "#### **5.2. 합성곱 신경망 맛보기**\n",
    "- fashion_mnist 데이터셋을 사용하여 합성곱 신경망을 직접 구현해 보기"
   ]
  },
  {
   "cell_type": "markdown",
   "metadata": {},
   "source": [
    "- 데이터 다운로드"
   ]
  },
  {
   "cell_type": "code",
   "execution_count": 3,
   "metadata": {},
   "outputs": [
    {
     "name": "stdout",
     "output_type": "stream",
     "text": [
      "Downloading http://fashion-mnist.s3-website.eu-central-1.amazonaws.com/train-images-idx3-ubyte.gz\n",
      "Downloading http://fashion-mnist.s3-website.eu-central-1.amazonaws.com/train-images-idx3-ubyte.gz to ../chap05/data/FashionMNIST/raw/train-images-idx3-ubyte.gz\n"
     ]
    },
    {
     "name": "stderr",
     "output_type": "stream",
     "text": [
      "100.0%\n"
     ]
    },
    {
     "name": "stdout",
     "output_type": "stream",
     "text": [
      "Extracting ../chap05/data/FashionMNIST/raw/train-images-idx3-ubyte.gz to ../chap05/data/FashionMNIST/raw\n",
      "\n",
      "Downloading http://fashion-mnist.s3-website.eu-central-1.amazonaws.com/train-labels-idx1-ubyte.gz\n",
      "Downloading http://fashion-mnist.s3-website.eu-central-1.amazonaws.com/train-labels-idx1-ubyte.gz to ../chap05/data/FashionMNIST/raw/train-labels-idx1-ubyte.gz\n"
     ]
    },
    {
     "name": "stderr",
     "output_type": "stream",
     "text": [
      "100.0%\n"
     ]
    },
    {
     "name": "stdout",
     "output_type": "stream",
     "text": [
      "Extracting ../chap05/data/FashionMNIST/raw/train-labels-idx1-ubyte.gz to ../chap05/data/FashionMNIST/raw\n",
      "\n",
      "Downloading http://fashion-mnist.s3-website.eu-central-1.amazonaws.com/t10k-images-idx3-ubyte.gz\n",
      "Downloading http://fashion-mnist.s3-website.eu-central-1.amazonaws.com/t10k-images-idx3-ubyte.gz to ../chap05/data/FashionMNIST/raw/t10k-images-idx3-ubyte.gz\n"
     ]
    },
    {
     "name": "stderr",
     "output_type": "stream",
     "text": [
      "100.0%\n"
     ]
    },
    {
     "name": "stdout",
     "output_type": "stream",
     "text": [
      "Extracting ../chap05/data/FashionMNIST/raw/t10k-images-idx3-ubyte.gz to ../chap05/data/FashionMNIST/raw\n",
      "\n",
      "Downloading http://fashion-mnist.s3-website.eu-central-1.amazonaws.com/t10k-labels-idx1-ubyte.gz\n",
      "Downloading http://fashion-mnist.s3-website.eu-central-1.amazonaws.com/t10k-labels-idx1-ubyte.gz to ../chap05/data/FashionMNIST/raw/t10k-labels-idx1-ubyte.gz\n"
     ]
    },
    {
     "name": "stderr",
     "output_type": "stream",
     "text": [
      "100.0%"
     ]
    },
    {
     "name": "stdout",
     "output_type": "stream",
     "text": [
      "Extracting ../chap05/data/FashionMNIST/raw/t10k-labels-idx1-ubyte.gz to ../chap05/data/FashionMNIST/raw\n",
      "\n"
     ]
    },
    {
     "name": "stderr",
     "output_type": "stream",
     "text": [
      "\n"
     ]
    }
   ],
   "source": [
    "import torchvision\n",
    "import torchvision.transforms as transforms\n",
    "\n",
    "train_dataset = torchvision.datasets.FashionMNIST(\"../chap05/data\",download=True,transform=transforms.Compose([transforms.ToTensor()]))\n",
    "test_dataset = torchvision.datasets.FashionMNIST(\"../chap05/data\",download=True,train=False,transform=transforms.Compose([transforms.ToTensor()]))\n"
   ]
  },
  {
   "cell_type": "markdown",
   "metadata": {},
   "source": [
    "- 학습 데이터 사이즈와 개수 확인"
   ]
  },
  {
   "cell_type": "code",
   "execution_count": 11,
   "metadata": {},
   "outputs": [
    {
     "name": "stdout",
     "output_type": "stream",
     "text": [
      "Train Data: 60000 images\n",
      "Train Data Image Size: torch.Size([100, 1, 28, 28]) Label Size : torch.Size([100])\n"
     ]
    }
   ],
   "source": [
    "from data import load_data_using_mini_batch \n",
    "\n",
    "# count images in train data set\n",
    "print(f\"Train Data: {len(train_dataset)} images\")\n",
    "\n",
    "# put dataset in torch data loader\n",
    "mini_batch_size = 100\n",
    "train_dataloader = load_data_using_mini_batch(train_dataset,mini_batch_size)\n",
    "test_dataloader = load_data_using_mini_batch(test_dataset,mini_batch_size)\n",
    "\n",
    "# check image size\n",
    "images, labels = next(iter(train_dataloader))\n",
    "print(f\"Train Data Image Size: {images.size()} Label Size : {labels.size()}\")\n",
    "\n"
   ]
  },
  {
   "cell_type": "code",
   "execution_count": null,
   "metadata": {},
   "outputs": [],
   "source": []
  }
 ],
 "metadata": {
  "kernelspec": {
   "display_name": "23-2_MMStudy_Analysis_F-O1JOBGQa",
   "language": "python",
   "name": "python3"
  },
  "language_info": {
   "codemirror_mode": {
    "name": "ipython",
    "version": 3
   },
   "file_extension": ".py",
   "mimetype": "text/x-python",
   "name": "python",
   "nbconvert_exporter": "python",
   "pygments_lexer": "ipython3",
   "version": "3.11.4"
  },
  "orig_nbformat": 4
 },
 "nbformat": 4,
 "nbformat_minor": 2
}
