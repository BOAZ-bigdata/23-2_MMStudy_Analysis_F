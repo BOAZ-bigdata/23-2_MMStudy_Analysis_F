{
 "cells": [
  {
   "cell_type": "markdown",
   "metadata": {},
   "source": [
    "# 6.1 이미지 분류를 위한 신경망\n",
    "## 목차\n",
    "### 6.1.1 LeNet-5\n",
    "### 6.1.2 AlexNet\n",
    "### 6.1.3 VGGNet\n",
    "### 6.1.4 GoogLeNet\n",
    "### 6.1.5 ResNet"
   ]
  },
  {
   "cell_type": "markdown",
   "metadata": {},
   "source": []
  },
  {
   "cell_type": "markdown",
   "metadata": {},
   "source": [
    "## 6.1 LeNet-5\n",
    "- convolution, sub-sampling을 반복적으로 거치면서 마지막 fully connected layer에서 분류 수행"
   ]
  },
  {
   "cell_type": "code",
   "execution_count": 1,
   "metadata": {},
   "outputs": [],
   "source": [
    "import torch\n",
    "import torchvision\n",
    "from torch.utils.data import DataLoader, Dataset\n",
    "from torchvision import transforms\n",
    "from torch.autograd import Variable\n",
    "from torch import optim\n",
    "import torch.nn as nn\n",
    "import torch.nn.functional as F\n",
    "import os\n",
    "import cv2\n",
    "from PIL import Image\n",
    "from tqdm import tqdm_notebook as tqdm\n",
    "import random\n",
    "from matplotlib import pyplot as plt\n",
    "\n",
    "\n",
    "device = torch.device(\"cuda:0\" if torch.cuda.is_available() else \"cpu\")"
   ]
  },
  {
   "cell_type": "markdown",
   "metadata": {},
   "source": [
    "- dogs-vs-cat train,val,test 데이터셋 셋팅"
   ]
  },
  {
   "cell_type": "code",
   "execution_count": 3,
   "metadata": {},
   "outputs": [
    {
     "name": "stdout",
     "output_type": "stream",
     "text": [
      "train 데이터 개수 : 400\n",
      "test 데이터 개수 : 92\n",
      "val 데이터 개수 : 10\n"
     ]
    }
   ],
   "source": [
    "cat_dir_path = r\"./080289/chap06/data/dogs-vs-cats/Cat/\"\n",
    "dog_dir_path = r\"./080289/chap06/data/dogs-vs-cats/Dog/\"\n",
    "\n",
    "cat_image_path_list = sorted(\n",
    "    [ os.path.join(cat_dir_path,cat_image_name) for cat_image_name in os.listdir(cat_dir_path)]\n",
    ")\n",
    "dog_image_path_list = sorted(\n",
    "    [ os.path.join(dog_dir_path,dog_image_name) for dog_image_name in os.listdir(dog_dir_path)]\n",
    ")\n",
    "total_image_path_list = [*cat_image_path_list,*dog_image_path_list]\n",
    "correct_image_path_list = [\n",
    "    image_file_path for image_file_path in total_image_path_list if cv2.imread(image_file_path) is not None\n",
    "]\n",
    "\n",
    "random.seed(42)\n",
    "random.shuffle(correct_image_path_list )\n",
    "train_images_filepaths = correct_image_path_list[:400]\n",
    "val_images_filepaths = correct_image_path_list[400:-10]\n",
    "test_images_filepaths = correct_image_path_list[-10:]\n",
    "print(\n",
    "    f\"train 데이터 개수 : {len(train_images_filepaths)}\"\n",
    "    f\"\\ntest 데이터 개수 : {len(val_images_filepaths)}\"\n",
    "    f\"\\nval 데이터 개수 : {len(test_images_filepaths)}\"\n",
    ")"
   ]
  }
 ],
 "metadata": {
  "kernelspec": {
   "display_name": "23-2_MMStudy_Analysis_F-O1JOBGQa",
   "language": "python",
   "name": "python3"
  },
  "language_info": {
   "codemirror_mode": {
    "name": "ipython",
    "version": 3
   },
   "file_extension": ".py",
   "mimetype": "text/x-python",
   "name": "python",
   "nbconvert_exporter": "python",
   "pygments_lexer": "ipython3",
   "version": "3.11.4"
  },
  "orig_nbformat": 4
 },
 "nbformat": 4,
 "nbformat_minor": 2
}
