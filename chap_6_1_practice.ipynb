{
 "cells": [
  {
   "cell_type": "markdown",
   "metadata": {},
   "source": [
    "# 6.1 이미지 분류를 위한 신경망\n",
    "## 목차\n",
    "### 6.1.1 LeNet-5\n",
    "### 6.1.2 AlexNet\n",
    "### 6.1.3 VGGNet\n",
    "### 6.1.4 GoogLeNet\n",
    "### 6.1.5 ResNet"
   ]
  },
  {
   "cell_type": "markdown",
   "metadata": {},
   "source": []
  }
 ],
 "metadata": {
  "language_info": {
   "name": "python"
  },
  "orig_nbformat": 4
 },
 "nbformat": 4,
 "nbformat_minor": 2
}
