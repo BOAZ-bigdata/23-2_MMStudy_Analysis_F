{
 "cells": [
  {
   "cell_type": "markdown",
   "metadata": {},
   "source": [
    "# 6.1 이미지 분류를 위한 신경망\n",
    "## 목차\n",
    "### 6.1.1 LeNet-5\n",
    "### 6.1.2 AlexNet\n",
    "### 6.1.3 VGGNet\n",
    "### 6.1.4 GoogLeNet\n",
    "### 6.1.5 ResNet"
   ]
  },
  {
   "cell_type": "markdown",
   "metadata": {},
   "source": []
  },
  {
   "cell_type": "markdown",
   "metadata": {},
   "source": [
    "## 6.1 LeNet-5\n",
    "- convolution, sub-sampling을 반복적으로 거치면서 마지막 fully connected layer에서 분류 수행"
   ]
  }
 ],
 "metadata": {
  "language_info": {
   "name": "python"
  },
  "orig_nbformat": 4
 },
 "nbformat": 4,
 "nbformat_minor": 2
}
