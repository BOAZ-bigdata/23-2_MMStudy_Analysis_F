{
 "cells": [
  {
   "cell_type": "markdown",
   "metadata": {},
   "source": [
    "# 6.2 객체 인식을 위한 신경망\n",
    "## 목차\n",
    "### 6.2.1 R-CNN\n",
    "### 6.2.2 공간 피라미드 풀링\n",
    "### 6.2.3 Fast R-CNN\n",
    "### 6.2.4 Faster R-CNN"
   ]
  },
  {
   "cell_type": "markdown",
   "metadata": {},
   "source": [
    "## 6.2.1 R-CNN\n",
    "- CNN + Region Proposal 알고리즘\n",
    "    - Region Proposal(후보 영역): 이미지의 영역을 선택해서 탐색\n",
    "- 학습 절차\n",
    "    - 이미지를 입력으로 받는다.\n",
    "    - 2000개의 바운딩 박스를 선택적으로 추출, crop, 227*227로 통일\n",
    "    - 크기가 동일한 이미지 2000개에 각각 CNN 모델에 적용\n",
    "    - 분류 진행해서 결과 도출"
   ]
  },
  {
   "cell_type": "markdown",
   "metadata": {},
   "source": [
    "## 6.2.2 공간 피라미드 풀링\n",
    "- 입력 이미지의 크기에 관계 없이 합성곱층을 통과시키고, 완전연결층에 전달되기 전에 특성 맵들을 동일한 크기로 조절해주는 풀링층을 적용하는 기법\n",
    "    - 원본 이미지의 특징이 훼손되지 않는 feature map을 얻을 수 있다."
   ]
  },
  {
   "cell_type": "markdown",
   "metadata": {},
   "source": [
    "## 6.2.3 Fast R-CNN\n",
    "- R-CNN 속도 문제 개선을 위해 RoI 풀링 도입\n",
    "    - RoI 풀링 : 크기가 다른 feature map 마다 stride를 다르게 max pooling 적용해서 결과 값 크기를 동일하게 맞추는 방법\n",
    "- 최종 CNN feature map 은 풀링을 적용하여 FC layer 통과하도록 크기 조정\n"
   ]
  },
  {
   "cell_type": "markdown",
   "metadata": {},
   "source": [
    "## 6.2.4 Faster R-CNN\n",
    "- Fast R-CNN에서 시간이 오래 걸리던 후보영역 생성 과정을 CNN 내부 네트워크에서 진행하도록 설계\n",
    "- 외부의 느린 선택적 탐색(CPU로 계산) 대신 RPN(GPU로 계산)을 사용\n"
   ]
  },
  {
   "cell_type": "markdown",
   "metadata": {},
   "source": [
    "# 6.3 이미지 분할을 위한 신경망\n",
    "## 목차\n",
    "### 6.3.1 완전 합성곱 네트워크\n",
    "### 6.3.2 합성곱 & 역합성곱 네트워크\n",
    "### 6.3.3 U-net\n",
    "### 6.3.4 PSPNet\n",
    "### 6.3.5 DeepLabv3/DeepLabv3+"
   ]
  },
  {
   "cell_type": "markdown",
   "metadata": {},
   "source": [
    "## 6.3.1 완전 합성곱 네트워크\n",
    "- FCN\n",
    "    - FC layer를 1*1 합성곱으로 대체"
   ]
  },
  {
   "cell_type": "markdown",
   "metadata": {},
   "source": [
    "## 6.3.2 합성곱 & 역합성곱 네트워크\n",
    "- deconvolutional networks\n",
    "    - convolutional network의 출력결과를 입력 이미지와 같은 크기로 만들고 싶을 때 사용\n",
    "        - semantic segmentation 등에 활용\n",
    "    - up-sampling이라고도 부름\n",
    "    - 동작 과정\n",
    "        - 각각의 픽셀 주위에 제로 패딩 추가\n",
    "        - 합성곱 연산 수행"
   ]
  }
 ],
 "metadata": {
  "kernelspec": {
   "display_name": "23-2_MMStudy_Analysis_F-O1JOBGQa",
   "language": "python",
   "name": "python3"
  },
  "language_info": {
   "name": "python",
   "version": "3.11.4"
  },
  "orig_nbformat": 4
 },
 "nbformat": 4,
 "nbformat_minor": 2
}
