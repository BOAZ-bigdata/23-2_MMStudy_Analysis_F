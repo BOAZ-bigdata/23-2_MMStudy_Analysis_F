{
 "cells": [
  {
   "cell_type": "markdown",
   "metadata": {},
   "source": [
    "# 6.2 객체 인식을 위한 신경망\n",
    "## 목차\n",
    "### 6.2.1 R-CNN\n",
    "### 6.2.2 공간 피라미드 풀링\n",
    "### 6.2.3 Fast R-CNN\n",
    "### 6.2.4 Faster R-CNN"
   ]
  }
 ],
 "metadata": {
  "kernelspec": {
   "display_name": "23-2_MMStudy_Analysis_F-O1JOBGQa",
   "language": "python",
   "name": "python3"
  },
  "language_info": {
   "name": "python",
   "version": "3.11.4"
  },
  "orig_nbformat": 4
 },
 "nbformat": 4,
 "nbformat_minor": 2
}
